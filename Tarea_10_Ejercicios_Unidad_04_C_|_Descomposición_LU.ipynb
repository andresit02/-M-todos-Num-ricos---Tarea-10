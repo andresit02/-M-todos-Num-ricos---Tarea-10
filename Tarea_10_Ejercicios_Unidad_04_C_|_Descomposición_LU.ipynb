{
  "nbformat": 4,
  "nbformat_minor": 0,
  "metadata": {
    "colab": {
      "provenance": [],
      "authorship_tag": "ABX9TyM0/BymA7CmkCZD+A3ZRLWT",
      "include_colab_link": true
    },
    "kernelspec": {
      "name": "python3",
      "display_name": "Python 3"
    },
    "language_info": {
      "name": "python"
    }
  },
  "cells": [
    {
      "cell_type": "markdown",
      "metadata": {
        "id": "view-in-github",
        "colab_type": "text"
      },
      "source": [
        "<a href=\"https://colab.research.google.com/github/andresit02/-M-todos-Num-ricos---Tarea-10/blob/main/Tarea_10_Ejercicios_Unidad_04_C_%7C_Descomposici%C3%B3n_LU.ipynb\" target=\"_parent\"><img src=\"https://colab.research.google.com/assets/colab-badge.svg\" alt=\"Open In Colab\"/></a>"
      ]
    },
    {
      "cell_type": "markdown",
      "source": [
        "### ***Realizado por: Andres P. Fernandez O.***"
      ],
      "metadata": {
        "id": "_0BPsci-b3Tn"
      }
    },
    {
      "cell_type": "markdown",
      "source": [
        "## CONJUNTO DE EJERCICIOS"
      ],
      "metadata": {
        "id": "oEcRQYOhcEcU"
      }
    },
    {
      "cell_type": "markdown",
      "source": [
        "1. Realice las siguientes multiplicaciones matriz-matriz:\n",
        "- a.\n",
        "\\begin{bmatrix}\n",
        "2 & -3 \\\\\n",
        "3 & -1\n",
        "\\end{bmatrix}\n",
        "\n",
        "\\begin{bmatrix}\n",
        "1 & 5 \\\\\n",
        "3 & 0\n",
        "\\end{bmatrix}\n",
        "\n",
        "- b.\n",
        "\\begin{bmatrix}\n",
        "2 & -3 \\\\\n",
        "3 & -1\n",
        "\\end{bmatrix}\n",
        "\n",
        "\\begin{bmatrix}\n",
        "1 & 5 & -4 \\\\\n",
        "-3 & 2 & 0\n",
        "\\end{bmatrix}\n",
        "\n",
        "- c.\n",
        "\\begin{bmatrix}\n",
        "2 & -3 & 1 \\\\\n",
        "4 & 3 & 0 \\\\\n",
        "5 & 2 & -4\n",
        "\\end{bmatrix}\n",
        "\n",
        "\\begin{bmatrix}\n",
        "0 & 1 & -2 \\\\\n",
        "1 & 0 & -1 \\\\\n",
        "2 & 3 & -2\n",
        "\\end{bmatrix}\n",
        "\n",
        "- d.\n",
        "\\begin{bmatrix}\n",
        "2 & 1 & 2 \\\\\n",
        "-2 & 3 & 0 \\\\\n",
        "2 & -1 & 3\n",
        "\\end{bmatrix}\n",
        "\n",
        "\\begin{bmatrix}\n",
        "1 & -2 \\\\\n",
        "-4 & 1 \\\\\n",
        "0 & -2\n",
        "\\end{bmatrix}"
      ],
      "metadata": {
        "id": "RDq_qavfcG5y"
      }
    },
    {
      "cell_type": "code",
      "source": [
        "import numpy as np\n",
        "\n",
        "# Definir las matrices\n",
        "A1 = np.array([[2, -3], [3, -1]])\n",
        "B1 = np.array([[1, 5], [3, 0]])\n",
        "\n",
        "A2 = np.array([[2, -3], [3, -1]])\n",
        "B2 = np.array([[1, 5, -4], [-3, 2, 0]])\n",
        "\n",
        "A3 = np.array([[2, -3, 1], [4, 3, 0], [5, 2, -4]])\n",
        "B3 = np.array([[0, 1, -2], [1, 0, -1], [2, 3, -2]])\n",
        "\n",
        "A4 = np.array([[2, 1, 2], [-2, 3, 0], [2, -1, 3]])\n",
        "B4 = np.array([[1, -2], [-4, 1], [0, -2]])\n",
        "\n",
        "# Realizar las multiplicaciones\n",
        "C1 = np.dot(A1, B1)\n",
        "C2 = np.dot(A2, B2)\n",
        "C3 = np.dot(A3, B3)\n",
        "C4 = np.dot(A4, B4)\n",
        "\n",
        "# Imprimir los resultados\n",
        "print(\"Resultado de la multiplicación A1 * B1:\")\n",
        "print(C1)\n",
        "print(\"\\nResultado de la multiplicación A2 * B2:\")\n",
        "print(C2)\n",
        "print(\"\\nResultado de la multiplicación A3 * B3:\")\n",
        "print(C3)\n",
        "print(\"\\nResultado de la multiplicación A4 * B4:\")\n",
        "print(C4)"
      ],
      "metadata": {
        "colab": {
          "base_uri": "https://localhost:8080/"
        },
        "id": "eTLh1UNWcRVI",
        "outputId": "decdddc1-cba3-43df-97f2-0e251208de56"
      },
      "execution_count": 1,
      "outputs": [
        {
          "output_type": "stream",
          "name": "stdout",
          "text": [
            "Resultado de la multiplicación A1 * B1:\n",
            "[[-7 10]\n",
            " [ 0 15]]\n",
            "\n",
            "Resultado de la multiplicación A2 * B2:\n",
            "[[ 11   4  -8]\n",
            " [  6  13 -12]]\n",
            "\n",
            "Resultado de la multiplicación A3 * B3:\n",
            "[[ -1   5  -3]\n",
            " [  3   4 -11]\n",
            " [ -6  -7  -4]]\n",
            "\n",
            "Resultado de la multiplicación A4 * B4:\n",
            "[[ -2  -7]\n",
            " [-14   7]\n",
            " [  6 -11]]\n"
          ]
        }
      ]
    },
    {
      "cell_type": "markdown",
      "source": [
        "2. Determine cuáles de las siguientes matrices son no singulares y calcule la inversa de esas matrices:\n",
        "\n",
        "- a.\n",
        "\\begin{bmatrix}\n",
        "4 & 2 & 6 \\\\\n",
        "3 & 0 & 7 \\\\\n",
        "-2 & -1 & -3\n",
        "\\end{bmatrix}\n",
        "\n",
        "- b.\n",
        "\\begin{bmatrix}\n",
        "1 & 2 & 0 \\\\\n",
        "2 & 1 & -1 \\\\\n",
        "3 & 1 & 1\n",
        "\\end{bmatrix}\n",
        "\n",
        "- c.\n",
        "\\begin{bmatrix}\n",
        "1 & 1 & -1 & 1 \\\\\n",
        "1 & 2 & -4 & -2 \\\\\n",
        "2 & 1 & 1 & 5 \\\\\n",
        "-1 & 0 & -2 & -4\n",
        "\\end{bmatrix}\n",
        "\n",
        "- d.\n",
        "\\begin{bmatrix}\n",
        "4 & 0 & 0 & 0 \\\\\n",
        "6 & 7 & 0 & 0 \\\\\n",
        "9 & 11 & 1 & 0 \\\\\n",
        "5 & 4 & 1 & 1\n",
        "\\end{bmatrix}"
      ],
      "metadata": {
        "id": "RjnzA3C1cxba"
      }
    },
    {
      "cell_type": "code",
      "source": [
        "def determinant_2x2(matrix):\n",
        "    \"\"\"Calcula el determinante de una matriz 2x2.\"\"\"\n",
        "    a, b, c, d = matrix[0][0], matrix[0][1], matrix[1][0], matrix[1][1]\n",
        "    return a * d - b * c\n",
        "\n",
        "def inverse_2x2(matrix):\n",
        "    \"\"\"Calcula la inversa de una matriz 2x2.\"\"\"\n",
        "    det = determinant_2x2(matrix)\n",
        "    if det == 0:\n",
        "        return None\n",
        "    a, b, c, d = matrix[0][0], matrix[0][1], matrix[1][0], matrix[1][1]\n",
        "    return [[d / det, -b / det], [-c / det, a / det]]\n",
        "\n",
        "def determinant_3x3(matrix):\n",
        "    \"\"\"Calcula el determinante de una matriz 3x3.\"\"\"\n",
        "    a, b, c = matrix[0]\n",
        "    d, e, f = matrix[1]\n",
        "    g, h, i = matrix[2]\n",
        "    return a * (e * i - f * h) - b * (d * i - f * g) + c * (d * h - e * g)\n",
        "\n",
        "def cofactor(matrix):\n",
        "    \"\"\"Calcula la matriz de cofactores de una matriz 3x3.\"\"\"\n",
        "    cofactors = []\n",
        "    for i in range(3):\n",
        "        row = []\n",
        "        for j in range(3):\n",
        "            minor = [row[:j] + row[j+1:] for row in (matrix[:i] + matrix[i+1:])]\n",
        "            minor_det = determinant_2x2(minor)\n",
        "            sign = (-1) ** (i + j)\n",
        "            row.append(sign * minor_det)\n",
        "        cofactors.append(row)\n",
        "    return list(map(list, zip(*cofactors)))  # Transponer la matriz de cofactores\n",
        "\n",
        "def inverse_3x3(matrix):\n",
        "    \"\"\"Calcula la inversa de una matriz 3x3.\"\"\"\n",
        "    det = determinant_3x3(matrix)\n",
        "    if det == 0:\n",
        "        return None\n",
        "    cof = cofactor(matrix)\n",
        "    return [[elem / det for elem in row] for row in cof]\n",
        "\n",
        "# Ejemplos de matrices\n",
        "matrix_2x2 = [[4, 2], [3, 0]]\n",
        "matrix_3x3 = [[1, 2, 0], [2, 1, -1], [3, 1, 1]]\n",
        "\n",
        "# Calcular inversas\n",
        "inv_2x2 = inverse_2x2(matrix_2x2)\n",
        "inv_3x3 = inverse_3x3(matrix_3x3)\n",
        "\n",
        "print(\"Inversa de la matriz 2x2:\")\n",
        "print(inv_2x2)\n",
        "\n",
        "print(\"\\nInversa de la matriz 3x3:\")\n",
        "print(inv_3x3)"
      ],
      "metadata": {
        "colab": {
          "base_uri": "https://localhost:8080/"
        },
        "id": "upExwAfncyuo",
        "outputId": "8a042f7a-cf9c-4534-b27f-6362db1085cb"
      },
      "execution_count": 2,
      "outputs": [
        {
          "output_type": "stream",
          "name": "stdout",
          "text": [
            "Inversa de la matriz 2x2:\n",
            "[[-0.0, 0.3333333333333333], [0.5, -0.6666666666666666]]\n",
            "\n",
            "Inversa de la matriz 3x3:\n",
            "[[-0.25, 0.25, 0.25], [0.625, -0.125, -0.125], [0.125, -0.625, 0.375]]\n"
          ]
        }
      ]
    },
    {
      "cell_type": "markdown",
      "source": [
        "3. Resuelva los sistemas lineales 4 x 4 que tienen la misma matriz de coeficientes:\n",
        "\n",
        "X1-X2+2X3 X4 = 6, -\n",
        "X1 - - X3+ X4 = 4,\n",
        "2x1+x2+3x3-4x4 = -2,\n",
        "-X2 X3 X4 =\n",
        "\n",
        "X1-X2+2X3 X4 = 1,\n",
        "X1 - X3+ X4 = 1,\n",
        "2x1+x2+3x3-4x4 = 2,\n",
        "-X2 X3 X4 = -1. 5;"
      ],
      "metadata": {
        "id": "-3SddIbHc3dH"
      }
    },
    {
      "cell_type": "code",
      "source": [
        "def gauss_jordan(A, B):\n",
        "    \"\"\" Resuelve el sistema de ecuaciones Ax = B usando el método de Gauss-Jordan. \"\"\"\n",
        "    n = len(A)\n",
        "    M = [row[:] + [b] for row, b in zip(A, B)]  # Augmented matrix\n",
        "\n",
        "    # Convertir a forma escalonada\n",
        "    for i in range(n):\n",
        "        # Buscar el pivote\n",
        "        max_row = max(range(i, n), key=lambda r: abs(M[r][i]))\n",
        "        M[i], M[max_row] = M[max_row], M[i]\n",
        "\n",
        "        # Normalizar la fila del pivote\n",
        "        pivot = M[i][i]\n",
        "        if pivot == 0:\n",
        "            raise ValueError(\"El sistema es singular\")\n",
        "        M[i] = [x / pivot for x in M[i]]\n",
        "\n",
        "        # Eliminar las otras filas\n",
        "        for j in range(n):\n",
        "            if i != j:\n",
        "                factor = M[j][i]\n",
        "                M[j] = [M[j][k] - factor * M[i][k] for k in range(n + 1)]\n",
        "\n",
        "    # Extraer la solución\n",
        "    return [row[-1] for row in M]\n",
        "\n",
        "# Matriz de coeficientes\n",
        "A = [\n",
        "    [1, -1, 2, 1],\n",
        "    [1, 0, -1, 1],\n",
        "    [2, 1, 3, -4],\n",
        "    [0, -1, 1, 1]\n",
        "]\n",
        "\n",
        "# Vectores de constantes\n",
        "B1 = [6, 4, -2, 5]\n",
        "B2 = [1, 1, 2, -1]\n",
        "\n",
        "# Resolver los sistemas\n",
        "solution_1 = gauss_jordan(A, B1)\n",
        "solution_2 = gauss_jordan(A, B2)\n",
        "\n",
        "print(\"Solución del Sistema 1:\")\n",
        "print(solution_1)\n",
        "\n",
        "print(\"\\nSolución del Sistema 2:\")\n",
        "print(solution_2)"
      ],
      "metadata": {
        "colab": {
          "base_uri": "https://localhost:8080/"
        },
        "id": "du2wlt39c6Jh",
        "outputId": "3a259fdf-b0fa-4e3d-f86d-0b22c229d2fe"
      },
      "execution_count": 3,
      "outputs": [
        {
          "output_type": "stream",
          "name": "stdout",
          "text": [
            "Solución del Sistema 1:\n",
            "[3.5, -9.5, -2.4999999999999996, -1.9999999999999996]\n",
            "\n",
            "Solución del Sistema 2:\n",
            "[0.5, 4.5, 1.5, 2.0]\n"
          ]
        }
      ]
    },
    {
      "cell_type": "markdown",
      "source": [
        "4. Encuentre los valores de A que hacen que la siguiente matriz sea singular\n",
        "\n",
        "a =\n",
        "\\begin{bmatrix}\n",
        "1 & -1 & a \\\\\n",
        "2 & 2 & 1 \\\\\n",
        "0 & a & 3/2\n",
        "\\end{bmatrix}"
      ],
      "metadata": {
        "id": "TLc9SyPxdBG7"
      }
    },
    {
      "cell_type": "code",
      "source": [
        "from sympy import symbols, Matrix, Eq, solve\n",
        "\n",
        "# Definir el símbolo para 'a'\n",
        "a = symbols('a')\n",
        "\n",
        "# Definir la matriz con el parámetro 'a'\n",
        "matrix = Matrix([\n",
        "    [1, -1, a],\n",
        "    [2, 2, 1],\n",
        "    [0, a, 3/2]\n",
        "])\n",
        "\n",
        "# Calcular el determinante de la matriz\n",
        "determinant = matrix.det()\n",
        "\n",
        "# Encontrar el valor de 'a' que hace que el determinante sea cero\n",
        "solutions = solve(Eq(determinant, 0), a)\n",
        "\n",
        "# Imprimir el resultado\n",
        "print(\"Determinante de la matriz en función de 'a':\")\n",
        "print(determinant)\n",
        "print(\"\\nValores de 'a' que hacen que la matriz sea singular:\")\n",
        "print(solutions)"
      ],
      "metadata": {
        "colab": {
          "base_uri": "https://localhost:8080/"
        },
        "id": "hdcVAc50dC7P",
        "outputId": "1711a1b3-2c41-4305-b63b-33dc95b2e70d"
      },
      "execution_count": 4,
      "outputs": [
        {
          "output_type": "stream",
          "name": "stdout",
          "text": [
            "Determinante de la matriz en función de 'a':\n",
            "2*a**2 - a + 6.0\n",
            "\n",
            "Valores de 'a' que hacen que la matriz sea singular:\n",
            "[0.25 - 1.71391365010026*I, 0.25 + 1.71391365010026*I]\n"
          ]
        }
      ]
    },
    {
      "cell_type": "markdown",
      "source": [
        "5. Resuelva los siguientes sistemas lineales:\n",
        "\n",
        "- a.\n",
        "\\begin{bmatrix}\n",
        "1 & 0 & 0 \\\\\n",
        "2 & 1 & 0 \\\\\n",
        "-1 & 0 & 1\n",
        "\\end{bmatrix}\n",
        "\n",
        "\\begin{bmatrix}\n",
        "1 & 0 & 0 \\\\\n",
        "2 & 1 & 0 \\\\\n",
        "-1 & 0 & 1\n",
        "\\end{bmatrix}\n",
        "\n",
        "\\begin{bmatrix}\n",
        "x1 \\\\\n",
        "x2 \\\\\n",
        "x3\n",
        "\\end{bmatrix}\n",
        "\n",
        "=\n",
        "\n",
        "\\begin{bmatrix}\n",
        "2 \\\\\n",
        "-1 \\\\\n",
        "1\n",
        "\\end{bmatrix}\n",
        "\n",
        "- a.\n",
        "\\begin{bmatrix}\n",
        "2 & 0 &\n",
        "0 \\\\-1 & 1 &\n",
        "00 \\3 & 2 & -1 1\n",
        "\\end{bmatrix}\n",
        "\n",
        "\\begin{bmatrix1 & 1 & 1 0 \\0 & 1 & 2 0 \\0 & 0 & 1 1\n",
        "\\end{bmatrix}\n",
        "\n",
        "\\begin{bmatrix}\n",
        "x1 \\\\\n",
        "x2 \\\\\n",
        "x3\n",
        "\\end{bmatrix}\n",
        "\n",
        "=\n",
        "\n",
        "\\begin{bmatrix-1\n",
        "2 \\3 -1\\0\n",
        "1\n",
        "\\end{bmatrix}trix}\n",
        "1 & 0 & 0 \\\\\n",
        "2 & 1 & 0 \\\\\n",
        "-101\n",
        "\\end{bmatrix}"
      ],
      "metadata": {
        "id": "QVQmmyOUdLc1"
      }
    },
    {
      "cell_type": "code",
      "source": [
        "import numpy as np\n",
        "\n",
        "# Definir las matrices y vectores\n",
        "A1 = np.array([\n",
        "    [1, 0, 0],\n",
        "    [2, 1, 0],\n",
        "    [-1, 0, 1]\n",
        "])\n",
        "\n",
        "B1 = np.array([2, -1, 1])\n",
        "\n",
        "A2 = np.array([\n",
        "    [2, 0, 0],\n",
        "    [-1, 1, 0],\n",
        "    [3, 2, -1]\n",
        "])\n",
        "\n",
        "B2 = np.array([\n",
        "    [1, 1, 1],\n",
        "    [0, 1, 2],\n",
        "    [0, 0, 1]\n",
        "])\n",
        "\n",
        "C2 = np.array([-1, 3, 0])\n",
        "\n",
        "# Resolver el sistema a\n",
        "x1 = np.linalg.solve(A1, B1)\n",
        "\n",
        "# Resolver el sistema b\n",
        "# Primero, encontrar la inversa de B2\n",
        "B2_inv = np.linalg.inv(B2)\n",
        "# Luego, resolver el sistema usando la inversa\n",
        "x2 = np.linalg.solve(A2 @ B2_inv, C2)\n",
        "\n",
        "print(\"Solución del sistema a:\")\n",
        "print(x1)\n",
        "\n",
        "print(\"\\nSolución del sistema b:\")\n",
        "print(x2)"
      ],
      "metadata": {
        "colab": {
          "base_uri": "https://localhost:8080/"
        },
        "id": "oVH04aQwdPhR",
        "outputId": "0e26fc78-de78-4b58-dcd7-f3a5b4a12a53"
      },
      "execution_count": 5,
      "outputs": [
        {
          "output_type": "stream",
          "name": "stdout",
          "text": [
            "Solución del sistema a:\n",
            "[ 2. -5.  3.]\n",
            "\n",
            "Solución del sistema b:\n",
            "[5.5 9.5 3.5]\n"
          ]
        }
      ]
    }
  ]
}