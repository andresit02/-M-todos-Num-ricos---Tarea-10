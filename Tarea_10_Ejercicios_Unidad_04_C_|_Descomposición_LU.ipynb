{
  "nbformat": 4,
  "nbformat_minor": 0,
  "metadata": {
    "colab": {
      "provenance": [],
      "authorship_tag": "ABX9TyN7CMMxy06AbfNs3l7PvMFt",
      "include_colab_link": true
    },
    "kernelspec": {
      "name": "python3",
      "display_name": "Python 3"
    },
    "language_info": {
      "name": "python"
    }
  },
  "cells": [
    {
      "cell_type": "markdown",
      "metadata": {
        "id": "view-in-github",
        "colab_type": "text"
      },
      "source": [
        "<a href=\"https://colab.research.google.com/github/andresit02/-M-todos-Num-ricos---Tarea-10/blob/main/Tarea_10_Ejercicios_Unidad_04_C_%7C_Descomposici%C3%B3n_LU.ipynb\" target=\"_parent\"><img src=\"https://colab.research.google.com/assets/colab-badge.svg\" alt=\"Open In Colab\"/></a>"
      ]
    },
    {
      "cell_type": "markdown",
      "source": [
        "### ***Realizado por: Andres P. Fernandez O.***"
      ],
      "metadata": {
        "id": "_0BPsci-b3Tn"
      }
    },
    {
      "cell_type": "markdown",
      "source": [
        "## CONJUNTO DE EJERCICIOS"
      ],
      "metadata": {
        "id": "oEcRQYOhcEcU"
      }
    },
    {
      "cell_type": "markdown",
      "source": [
        "1. Realice las siguientes multiplicaciones matriz-matriz:\n",
        "- a.\n",
        "\\begin{bmatrix}\n",
        "2 & -3 \\\\\n",
        "3 & -1\n",
        "\\end{bmatrix}\n",
        "\n",
        "\\begin{bmatrix}\n",
        "1 & 5 \\\\\n",
        "3 & 0\n",
        "\\end{bmatrix}\n",
        "\n",
        "- b.\n",
        "\\begin{bmatrix}\n",
        "2 & -3 \\\\\n",
        "3 & -1\n",
        "\\end{bmatrix}\n",
        "\n",
        "\\begin{bmatrix}\n",
        "1 & 5 & -4 \\\\\n",
        "-3 & 2 & 0\n",
        "\\end{bmatrix}\n",
        "\n",
        "- c.\n",
        "\\begin{bmatrix}\n",
        "2 & -3 & 1 \\\\\n",
        "4 & 3 & 0 \\\\\n",
        "5 & 2 & -4\n",
        "\\end{bmatrix}\n",
        "\n",
        "\\begin{bmatrix}\n",
        "0 & 1 & -2 \\\\\n",
        "1 & 0 & -1 \\\\\n",
        "2 & 3 & -2\n",
        "\\end{bmatrix}\n",
        "\n",
        "- d.\n",
        "\\begin{bmatrix}\n",
        "2 & 1 & 2 \\\\\n",
        "-2 & 3 & 0 \\\\\n",
        "2 & -1 & 3\n",
        "\\end{bmatrix}\n",
        "\n",
        "\\begin{bmatrix}\n",
        "1 & -2 \\\\\n",
        "-4 & 1 \\\\\n",
        "0 & -2\n",
        "\\end{bmatrix}"
      ],
      "metadata": {
        "id": "RDq_qavfcG5y"
      }
    },
    {
      "cell_type": "code",
      "source": [
        "import numpy as np\n",
        "\n",
        "# Definir las matrices\n",
        "A1 = np.array([[2, -3], [3, -1]])\n",
        "B1 = np.array([[1, 5], [3, 0]])\n",
        "\n",
        "A2 = np.array([[2, -3], [3, -1]])\n",
        "B2 = np.array([[1, 5, -4], [-3, 2, 0]])\n",
        "\n",
        "A3 = np.array([[2, -3, 1], [4, 3, 0], [5, 2, -4]])\n",
        "B3 = np.array([[0, 1, -2], [1, 0, -1], [2, 3, -2]])\n",
        "\n",
        "A4 = np.array([[2, 1, 2], [-2, 3, 0], [2, -1, 3]])\n",
        "B4 = np.array([[1, -2], [-4, 1], [0, -2]])\n",
        "\n",
        "# Realizar las multiplicaciones\n",
        "C1 = np.dot(A1, B1)\n",
        "C2 = np.dot(A2, B2)\n",
        "C3 = np.dot(A3, B3)\n",
        "C4 = np.dot(A4, B4)\n",
        "\n",
        "# Imprimir los resultados\n",
        "print(\"Resultado de la multiplicación A1 * B1:\")\n",
        "print(C1)\n",
        "print(\"\\nResultado de la multiplicación A2 * B2:\")\n",
        "print(C2)\n",
        "print(\"\\nResultado de la multiplicación A3 * B3:\")\n",
        "print(C3)\n",
        "print(\"\\nResultado de la multiplicación A4 * B4:\")\n",
        "print(C4)"
      ],
      "metadata": {
        "colab": {
          "base_uri": "https://localhost:8080/"
        },
        "id": "eTLh1UNWcRVI",
        "outputId": "decdddc1-cba3-43df-97f2-0e251208de56"
      },
      "execution_count": 1,
      "outputs": [
        {
          "output_type": "stream",
          "name": "stdout",
          "text": [
            "Resultado de la multiplicación A1 * B1:\n",
            "[[-7 10]\n",
            " [ 0 15]]\n",
            "\n",
            "Resultado de la multiplicación A2 * B2:\n",
            "[[ 11   4  -8]\n",
            " [  6  13 -12]]\n",
            "\n",
            "Resultado de la multiplicación A3 * B3:\n",
            "[[ -1   5  -3]\n",
            " [  3   4 -11]\n",
            " [ -6  -7  -4]]\n",
            "\n",
            "Resultado de la multiplicación A4 * B4:\n",
            "[[ -2  -7]\n",
            " [-14   7]\n",
            " [  6 -11]]\n"
          ]
        }
      ]
    }
  ]
}